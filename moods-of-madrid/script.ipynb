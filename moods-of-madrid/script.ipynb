{
 "cells": [
  {
   "cell_type": "markdown",
   "metadata": {},
   "source": [
    "# **Madrid Daily Weather**"
   ]
  },
  {
   "cell_type": "code",
   "execution_count": 1,
   "metadata": {},
   "outputs": [],
   "source": [
    "import pandas as pd\n",
    "import os"
   ]
  },
  {
   "cell_type": "code",
   "execution_count": 2,
   "metadata": {},
   "outputs": [],
   "source": [
    "# file imports\n",
    "\n",
    "weather = pd.read_csv('./madrid-daily-weather-data/madrid-weather-data.csv')"
   ]
  },
  {
   "cell_type": "markdown",
   "metadata": {},
   "source": [
    "## **Data Manipulation**"
   ]
  },
  {
   "cell_type": "code",
   "execution_count": 3,
   "metadata": {},
   "outputs": [],
   "source": [
    "# converting string dates to datetime data type\n",
    "\n",
    "weather['CET'] = pd.to_datetime(weather['CET'])"
   ]
  },
  {
   "cell_type": "code",
   "execution_count": 4,
   "metadata": {},
   "outputs": [],
   "source": [
    "# renaming columns\n",
    "\n",
    "rename_cols = {\n",
    "    'CET' : 'Date',\n",
    "    'Max TemperatureC' : 'Max Temp',\n",
    "    'Mean TemperatureC' : 'Mean Temp',\n",
    "    'Min TemperatureC' : 'Min Temp',\n",
    "    ' Mean Humidity' : 'Mean Humidity',\n",
    "    ' Min Humidity' : 'Min Humidity',\n",
    "    ' Max Sea Level PressurehPa' : 'Max Sea Level PressurehPa',\n",
    "    ' Mean Sea Level PressurehPa' : 'Mean Sea Level PressurehPa',\n",
    "    ' Min Sea Level PressurehPa' : 'Min Sea Level PressurehPa',\n",
    "    ' Max VisibilityKm' : 'Max Visibility',\n",
    "    ' Mean VisibilityKm' : 'Mean Visibility',\n",
    "    ' Min VisibilitykM' : 'Min Visibility',\n",
    "    ' Max Wind SpeedKm/h' : 'Max Wind Speed',\n",
    "    ' Mean Wind SpeedKm/h' : 'Mean Wind Speed',\n",
    "    ' Max Gust SpeedKm/h' : 'Max Gust Speed',\n",
    "    'Precipitationmm' : 'Precipitation',\n",
    "    ' CloudCover' : 'CloudCover',\n",
    "    ' Events' : 'Events'\n",
    "}\n",
    "\n",
    "weather.rename(columns=rename_cols, inplace=True)"
   ]
  },
  {
   "cell_type": "code",
   "execution_count": 5,
   "metadata": {},
   "outputs": [],
   "source": [
    "# dropping the 29th February dates from dataset so that our dataset is consistent\n",
    "\n",
    "weather.drop(\n",
    "    weather.loc[(weather['Date'].dt.day == 29) & (weather['Date'].dt.month == 2)].index,\n",
    "    inplace=True\n",
    ")"
   ]
  },
  {
   "cell_type": "code",
   "execution_count": 6,
   "metadata": {},
   "outputs": [],
   "source": [
    "# creating an ID columns that will be used later for joining the other dataframe\n",
    "\n",
    "weather['ID'] = weather.index"
   ]
  },
  {
   "cell_type": "code",
   "execution_count": 7,
   "metadata": {},
   "outputs": [],
   "source": [
    "# we need this for our points placement in tableau\n",
    "\n",
    "range = pd.date_range('2021-01-01', '2021-12-31')\n",
    "range = range.strftime('%m') + '-' + range.strftime('%d')\n",
    "range = pd.DataFrame(range, columns=['tmp'])\n",
    "range['Index'] = range.index\n",
    "\n",
    "weather['tmp'] = weather['Date'].dt.strftime('%m') + '-' + weather['Date'].dt.strftime('%d')\n",
    "\n",
    "weather = (\n",
    "    weather.set_index('tmp')\n",
    "    .join(\n",
    "        range.set_index('tmp'))\n",
    "    .reset_index()\n",
    "    .sort_values('ID')\n",
    "    .drop(columns=['tmp'])\n",
    ")"
   ]
  },
  {
   "cell_type": "code",
   "execution_count": 8,
   "metadata": {},
   "outputs": [],
   "source": [
    "# some correction\n",
    "\n",
    "weather['Index'] = (weather['Date'].dt.year % 1997)*365 + weather['Index']"
   ]
  },
  {
   "cell_type": "markdown",
   "metadata": {},
   "source": [
    "## **Exporting files**"
   ]
  },
  {
   "cell_type": "code",
   "execution_count": 9,
   "metadata": {},
   "outputs": [],
   "source": [
    "# outputing the required columns as a separate csv file\n",
    "\n",
    "try: os.mkdir('./clean-data')\n",
    "except: pass\n",
    "\n",
    "weather[[\n",
    "    'ID',\n",
    "    'Index',\n",
    "    'Date',\n",
    "    'Max Temp',\n",
    "    'Mean Temp',\n",
    "    'Min Temp',\n",
    "    'Mean Humidity',\n",
    "    'Mean Visibility',\n",
    "    'Max Wind Speed',\n",
    "    'Mean Wind Speed',\n",
    "    'Max Gust Speed',\n",
    "    'Precipitation'\n",
    "]].to_csv('./clean-data/madrid-weather.csv', index=False)"
   ]
  },
  {
   "cell_type": "code",
   "execution_count": 10,
   "metadata": {},
   "outputs": [],
   "source": [
    "# extract events from the string and unpivot/melt so that all the values are in one column\n",
    "\n",
    "(\n",
    "    weather[['ID']]\n",
    "    .join(\n",
    "        weather['Events']\n",
    "        .str.split('-', expand=True))\n",
    "    .melt(\n",
    "        id_vars=['ID'],\n",
    "        value_vars=[0, 1, 2])\n",
    "    .rename(\n",
    "        columns={'value' : 'Event'})\n",
    "    [['ID', 'Event']]\n",
    "    .dropna()\n",
    ").to_csv('./clean-data/events.csv', index=False)"
   ]
  }
 ],
 "metadata": {
  "kernelspec": {
   "display_name": "data-analysis-base",
   "language": "python",
   "name": "python3"
  },
  "language_info": {
   "codemirror_mode": {
    "name": "ipython",
    "version": 3
   },
   "file_extension": ".py",
   "mimetype": "text/x-python",
   "name": "python",
   "nbconvert_exporter": "python",
   "pygments_lexer": "ipython3",
   "version": "3.11.5"
  }
 },
 "nbformat": 4,
 "nbformat_minor": 2
}
