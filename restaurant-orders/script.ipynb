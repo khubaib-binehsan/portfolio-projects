{
 "cells": [
  {
   "cell_type": "markdown",
   "metadata": {},
   "source": [
    "# **Restaurant Orders**"
   ]
  },
  {
   "cell_type": "code",
   "execution_count": 1,
   "metadata": {},
   "outputs": [],
   "source": [
    "import pandas as pd\n",
    "\n",
    "orders = pd.read_csv('./data/order_details.csv')\n",
    "menu = pd.read_csv('./data/menu_items.csv')"
   ]
  },
  {
   "cell_type": "code",
   "execution_count": 2,
   "metadata": {},
   "outputs": [
    {
     "name": "stderr",
     "output_type": "stream",
     "text": [
      "C:\\Users\\khubayb\\AppData\\Local\\Temp\\ipykernel_18812\\2710094708.py:4: UserWarning: Could not infer format, so each element will be parsed individually, falling back to `dateutil`. To ensure parsing is consistent and as-expected, please specify a format.\n",
      "  orders['order_time'] = pd.to_datetime(orders['order_time'])\n"
     ]
    }
   ],
   "source": [
    "orders.dropna(inplace=True)\n",
    "\n",
    "orders['order_date'] = pd.to_datetime(orders['order_date'], format='mixed')\n",
    "orders['order_time'] = pd.to_datetime(orders['order_time'])\n",
    "\n",
    "orders['hour'] = orders['order_time'].dt.hour\n",
    "orders.drop(columns=['order_time'], inplace=True)"
   ]
  },
  {
   "cell_type": "markdown",
   "metadata": {},
   "source": [
    "## **Exporting files**"
   ]
  },
  {
   "cell_type": "code",
   "execution_count": null,
   "metadata": {},
   "outputs": [],
   "source": [
    "orders.join(menu.set_index('menu_item_id'), on='item_id').to_csv(\n",
    "    './data/orders_cleaned.csv')"
   ]
  }
 ],
 "metadata": {
  "kernelspec": {
   "display_name": "data-analysis-base",
   "language": "python",
   "name": "python3"
  },
  "language_info": {
   "codemirror_mode": {
    "name": "ipython",
    "version": 3
   },
   "file_extension": ".py",
   "mimetype": "text/x-python",
   "name": "python",
   "nbconvert_exporter": "python",
   "pygments_lexer": "ipython3",
   "version": "3.11.5"
  }
 },
 "nbformat": 4,
 "nbformat_minor": 2
}
