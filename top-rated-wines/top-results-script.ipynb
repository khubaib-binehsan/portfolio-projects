{
 "cells": [
  {
   "cell_type": "markdown",
   "metadata": {},
   "source": [
    "# **Wine Tasting**"
   ]
  },
  {
   "cell_type": "code",
   "execution_count": 1,
   "metadata": {},
   "outputs": [],
   "source": [
    "import pandas as pd\n",
    "import os"
   ]
  },
  {
   "cell_type": "code",
   "execution_count": 2,
   "metadata": {},
   "outputs": [],
   "source": [
    "# file import\n",
    "# since the file was not encoded in utf-8 therefore we pass the appropriate encoding in order to correctly read the file\n",
    "\n",
    "df = pd.read_csv('./wine-tasting-clean/wine_tasting_clean.csv', encoding='unicode_escape')"
   ]
  },
  {
   "cell_type": "markdown",
   "metadata": {},
   "source": [
    "## **Data Manipulation**\n",
    "\n",
    "We will extract the top wineries, varieties, and titles for the top 15 countries."
   ]
  },
  {
   "cell_type": "code",
   "execution_count": 3,
   "metadata": {},
   "outputs": [],
   "source": [
    "# first we will filter the data to only contain the top 15 countries, having the most reviews as first,\n",
    "# so that there are no outliers in our data\n",
    "\n",
    "countries_to_retain = (\n",
    "    df[['country']]\n",
    "    .assign(count=0)\n",
    "    .groupby('country')\n",
    "    .count()\n",
    "    .sort_values('count', ascending=False)\n",
    "    .head(15)\n",
    "    .reset_index()\n",
    "    ['country']\n",
    "    .to_list()\n",
    ")\n",
    "\n",
    "df = df[df['country'].isin(countries_to_retain)]"
   ]
  },
  {
   "cell_type": "code",
   "execution_count": 4,
   "metadata": {},
   "outputs": [],
   "source": [
    "tmp = df[['country', 'title', 'winery', 'variety', 'points']]\n",
    "\n",
    "# initiating a dictionary that will store a dataframe against each key\n",
    "\n",
    "dataframe = {\n",
    "    'title' : '',\n",
    "    'winery' : '',\n",
    "    'variety' : ''\n",
    "}\n",
    "\n",
    "for item in ['title', 'winery', 'variety']:\n",
    "    \n",
    "    _temp = (\n",
    "        tmp[['country', item, 'points']]\n",
    "        .groupby(['country', item])\n",
    "        .mean()\n",
    "        )\n",
    "    \n",
    "    _temp['ranked'] = (\n",
    "        _temp\n",
    "        .groupby('country')\n",
    "        ['points']\n",
    "        .rank(method='first', ascending=False)\n",
    "        )\n",
    "    \n",
    "    # extracting only the top ranked for each category\n",
    "    \n",
    "    _temp = (\n",
    "        _temp\n",
    "        .query('ranked == 1')\n",
    "        .reset_index()\n",
    "        .rename(columns={'points' : f'{item}_points'})\n",
    "        [['country', item, f'{item}_points']]\n",
    "        )\n",
    "\n",
    "    dataframe[item] = _temp\n"
   ]
  },
  {
   "cell_type": "code",
   "execution_count": 5,
   "metadata": {},
   "outputs": [],
   "source": [
    "# joining all the dataframes to create on dataframe and exporting\n",
    "\n",
    "try:\n",
    "    os.mkdir('./clean-data')\n",
    "except: pass\n",
    "\n",
    "(\n",
    "    dataframe['winery'].set_index('country')\n",
    "    .join(\n",
    "        dataframe['variety'].set_index('country')\n",
    "        )\n",
    "    .join(\n",
    "        dataframe['title'].set_index('country')\n",
    "        )\n",
    "    .reset_index()\n",
    ").to_csv('./clean-data/wine_top_results.csv', index=False)"
   ]
  }
 ],
 "metadata": {
  "kernelspec": {
   "display_name": "data-analysis-base",
   "language": "python",
   "name": "python3"
  },
  "language_info": {
   "codemirror_mode": {
    "name": "ipython",
    "version": 3
   },
   "file_extension": ".py",
   "mimetype": "text/x-python",
   "name": "python",
   "nbconvert_exporter": "python",
   "pygments_lexer": "ipython3",
   "version": "3.11.5"
  }
 },
 "nbformat": 4,
 "nbformat_minor": 2
}
